{
 "cells": [
  {
   "cell_type": "code",
   "execution_count": 1,
   "metadata": {},
   "outputs": [],
   "source": [
    "import pandas as pd\n",
    "import numpy as np\n",
    "import string\n",
    "import seaborn as sns\n",
    "import matplotlib.pyplot as plt\n",
    "from sklearn.model_selection import train_test_split\n",
    "from sklearn.linear_model import LogisticRegression\n",
    "from sklearn.metrics import classification_report\n",
    "import tensorflow as tf"
   ]
  },
  {
   "cell_type": "code",
   "execution_count": 2,
   "metadata": {},
   "outputs": [],
   "source": [
    "from sklearn.ensemble import RandomForestClassifier\n",
    "from sklearn.model_selection import GridSearchCV\n",
    "from sklearn.ensemble import GradientBoostingClassifier"
   ]
  },
  {
   "cell_type": "code",
   "execution_count": 3,
   "metadata": {},
   "outputs": [],
   "source": [
    "df = pd.read_csv(\"emotion_dataset.csv\")"
   ]
  },
  {
   "cell_type": "code",
   "execution_count": 4,
   "metadata": {},
   "outputs": [
    {
     "name": "stdout",
     "output_type": "stream",
     "text": [
      "   Emotion                                               Text\n",
      "0  neutral                                             Why ? \n",
      "1      joy    Sage Act upgrade on my to do list for tommorow.\n",
      "2  sadness  ON THE WAY TO MY HOMEGIRL BABY FUNERAL!!! MAN ...\n",
      "3      joy   Such an eye ! The true hazel eye-and so brill...\n",
      "4      joy  @Iluvmiasantos ugh babe.. hugggzzz for u .!  b...\n"
     ]
    }
   ],
   "source": [
    "print(df.head())"
   ]
  },
  {
   "cell_type": "code",
   "execution_count": 5,
   "metadata": {},
   "outputs": [
    {
     "data": {
      "text/html": [
       "<div>\n",
       "<style scoped>\n",
       "    .dataframe tbody tr th:only-of-type {\n",
       "        vertical-align: middle;\n",
       "    }\n",
       "\n",
       "    .dataframe tbody tr th {\n",
       "        vertical-align: top;\n",
       "    }\n",
       "\n",
       "    .dataframe thead th {\n",
       "        text-align: right;\n",
       "    }\n",
       "</style>\n",
       "<table border=\"1\" class=\"dataframe\">\n",
       "  <thead>\n",
       "    <tr style=\"text-align: right;\">\n",
       "      <th></th>\n",
       "      <th>Emotion</th>\n",
       "      <th>Text</th>\n",
       "    </tr>\n",
       "  </thead>\n",
       "  <tbody>\n",
       "    <tr>\n",
       "      <th>0</th>\n",
       "      <td>neutral</td>\n",
       "      <td>Why ?</td>\n",
       "    </tr>\n",
       "    <tr>\n",
       "      <th>1</th>\n",
       "      <td>joy</td>\n",
       "      <td>Sage Act upgrade on my to do list for tommorow.</td>\n",
       "    </tr>\n",
       "    <tr>\n",
       "      <th>2</th>\n",
       "      <td>sadness</td>\n",
       "      <td>ON THE WAY TO MY HOMEGIRL BABY FUNERAL!!! MAN ...</td>\n",
       "    </tr>\n",
       "    <tr>\n",
       "      <th>3</th>\n",
       "      <td>joy</td>\n",
       "      <td>Such an eye ! The true hazel eye-and so brill...</td>\n",
       "    </tr>\n",
       "    <tr>\n",
       "      <th>4</th>\n",
       "      <td>joy</td>\n",
       "      <td>@Iluvmiasantos ugh babe.. hugggzzz for u .!  b...</td>\n",
       "    </tr>\n",
       "    <tr>\n",
       "      <th>...</th>\n",
       "      <td>...</td>\n",
       "      <td>...</td>\n",
       "    </tr>\n",
       "    <tr>\n",
       "      <th>34787</th>\n",
       "      <td>surprise</td>\n",
       "      <td>@MichelGW have you gift! Hope you like it! It'...</td>\n",
       "    </tr>\n",
       "    <tr>\n",
       "      <th>34788</th>\n",
       "      <td>joy</td>\n",
       "      <td>The world didnt give it to me..so the world MO...</td>\n",
       "    </tr>\n",
       "    <tr>\n",
       "      <th>34789</th>\n",
       "      <td>anger</td>\n",
       "      <td>A man robbed me today .</td>\n",
       "    </tr>\n",
       "    <tr>\n",
       "      <th>34790</th>\n",
       "      <td>fear</td>\n",
       "      <td>Youu call it JEALOUSY, I call it of #Losing YO...</td>\n",
       "    </tr>\n",
       "    <tr>\n",
       "      <th>34791</th>\n",
       "      <td>sadness</td>\n",
       "      <td>I think about you baby, and I dream about you ...</td>\n",
       "    </tr>\n",
       "  </tbody>\n",
       "</table>\n",
       "<p>34792 rows × 2 columns</p>\n",
       "</div>"
      ],
      "text/plain": [
       "        Emotion                                               Text\n",
       "0       neutral                                             Why ? \n",
       "1           joy    Sage Act upgrade on my to do list for tommorow.\n",
       "2       sadness  ON THE WAY TO MY HOMEGIRL BABY FUNERAL!!! MAN ...\n",
       "3           joy   Such an eye ! The true hazel eye-and so brill...\n",
       "4           joy  @Iluvmiasantos ugh babe.. hugggzzz for u .!  b...\n",
       "...         ...                                                ...\n",
       "34787  surprise  @MichelGW have you gift! Hope you like it! It'...\n",
       "34788       joy  The world didnt give it to me..so the world MO...\n",
       "34789     anger                           A man robbed me today . \n",
       "34790      fear  Youu call it JEALOUSY, I call it of #Losing YO...\n",
       "34791   sadness  I think about you baby, and I dream about you ...\n",
       "\n",
       "[34792 rows x 2 columns]"
      ]
     },
     "execution_count": 5,
     "metadata": {},
     "output_type": "execute_result"
    }
   ],
   "source": [
    "df"
   ]
  },
  {
   "cell_type": "code",
   "execution_count": 6,
   "metadata": {},
   "outputs": [
    {
     "name": "stderr",
     "output_type": "stream",
     "text": [
      "C:\\Users\\maruf\\anaconda3\\lib\\site-packages\\seaborn\\_decorators.py:36: FutureWarning: Pass the following variable as a keyword arg: x. From version 0.12, the only valid positional argument will be `data`, and passing other arguments without an explicit keyword will result in an error or misinterpretation.\n",
      "  warnings.warn(\n"
     ]
    },
    {
     "data": {
      "image/png": "[encoded data removed]",
      "text/plain": [
       "<Figure size 720x576 with 1 Axes>"
      ]
     },
     "metadata": {
      "needs_background": "light"
     },
     "output_type": "display_data"
    }
   ],
   "source": [
    "plt.figure(figsize = (10, 8))\n",
    "sns.countplot(df['Emotion'])\n",
    "plt.show()"
   ]
  },
  {
   "cell_type": "code",
   "execution_count": 7,
   "metadata": {},
   "outputs": [
    {
     "name": "stdout",
     "output_type": "stream",
     "text": [
      "['neutral' 'joy' 'sadness' 'fear' 'surprise' 'anger' 'shame' 'disgust']\n"
     ]
    }
   ],
   "source": [
    "print(df['Emotion'].unique())"
   ]
  },
  {
   "cell_type": "code",
   "execution_count": 8,
   "metadata": {},
   "outputs": [],
   "source": [
    "X = df.drop(['Text','Emotion'], axis = 1) \n",
    "y = df['Emotion'] "
   ]
  },
  {
   "cell_type": "code",
   "execution_count": 9,
   "metadata": {},
   "outputs": [],
   "source": [
    "import neattext.functions as nfx\n",
    "dir(nfx)\n",
    "df['clean_text']=df['Text'].apply(nfx.remove_stopwords)\n",
    "df['clean_text']=df['Text'].apply(nfx.remove_userhandles)\n",
    "df['clean_text']=df['Text'].apply(nfx.remove_punctuations)\n",
    "df['clean_text']=df['Text'].apply(nfx.remove_special_characters)"
   ]
  },
  {
   "cell_type": "code",
   "execution_count": 10,
   "metadata": {},
   "outputs": [],
   "source": [
    "x1=df['clean_text']\n",
    "y1=df['Emotion']"
   ]
  },
  {
   "cell_type": "code",
   "execution_count": 11,
   "metadata": {},
   "outputs": [],
   "source": [
    "from sklearn.feature_extraction.text import CountVectorizer,TfidfVectorizer\n",
    "cv=CountVectorizer()\n",
    "x=cv.fit_transform(x1)"
   ]
  },
  {
   "cell_type": "code",
   "execution_count": 12,
   "metadata": {},
   "outputs": [],
   "source": [
    "from textblob import TextBlob"
   ]
  },
  {
   "cell_type": "code",
   "execution_count": 13,
   "metadata": {},
   "outputs": [],
   "source": [
    "def get_sentiment(text):\n",
    "    blob=TextBlob(text)\n",
    "    sentiment=blob.sentiment.polarity\n",
    "    if sentiment>0:\n",
    "     result = \"positive\"\n",
    "    elif sentiment<0:\n",
    "     result = \"negative\"\n",
    "    else:\n",
    "     result = \"neutral\"\n",
    "    return result"
   ]
  },
  {
   "cell_type": "code",
   "execution_count": 14,
   "metadata": {},
   "outputs": [
    {
     "data": {
      "text/html": [
       "<div>\n",
       "<style scoped>\n",
       "    .dataframe tbody tr th:only-of-type {\n",
       "        vertical-align: middle;\n",
       "    }\n",
       "\n",
       "    .dataframe tbody tr th {\n",
       "        vertical-align: top;\n",
       "    }\n",
       "\n",
       "    .dataframe thead th {\n",
       "        text-align: right;\n",
       "    }\n",
       "</style>\n",
       "<table border=\"1\" class=\"dataframe\">\n",
       "  <thead>\n",
       "    <tr style=\"text-align: right;\">\n",
       "      <th></th>\n",
       "      <th>Emotion</th>\n",
       "      <th>Text</th>\n",
       "      <th>clean_text</th>\n",
       "    </tr>\n",
       "  </thead>\n",
       "  <tbody>\n",
       "    <tr>\n",
       "      <th>0</th>\n",
       "      <td>neutral</td>\n",
       "      <td>Why ?</td>\n",
       "      <td>Why</td>\n",
       "    </tr>\n",
       "    <tr>\n",
       "      <th>1</th>\n",
       "      <td>joy</td>\n",
       "      <td>Sage Act upgrade on my to do list for tommorow.</td>\n",
       "      <td>Sage Act upgrade on my to do list for tommorow</td>\n",
       "    </tr>\n",
       "    <tr>\n",
       "      <th>2</th>\n",
       "      <td>sadness</td>\n",
       "      <td>ON THE WAY TO MY HOMEGIRL BABY FUNERAL!!! MAN ...</td>\n",
       "      <td>ON THE WAY TO MY HOMEGIRL BABY FUNERAL MAN I H...</td>\n",
       "    </tr>\n",
       "    <tr>\n",
       "      <th>3</th>\n",
       "      <td>joy</td>\n",
       "      <td>Such an eye ! The true hazel eye-and so brill...</td>\n",
       "      <td>Such an eye  The true hazel eyeand so brillia...</td>\n",
       "    </tr>\n",
       "    <tr>\n",
       "      <th>4</th>\n",
       "      <td>joy</td>\n",
       "      <td>@Iluvmiasantos ugh babe.. hugggzzz for u .!  b...</td>\n",
       "      <td>Iluvmiasantos ugh babe hugggzzz for u   babe n...</td>\n",
       "    </tr>\n",
       "    <tr>\n",
       "      <th>...</th>\n",
       "      <td>...</td>\n",
       "      <td>...</td>\n",
       "      <td>...</td>\n",
       "    </tr>\n",
       "    <tr>\n",
       "      <th>34787</th>\n",
       "      <td>surprise</td>\n",
       "      <td>@MichelGW have you gift! Hope you like it! It'...</td>\n",
       "      <td>MichelGW have you gift Hope you like it Its ha...</td>\n",
       "    </tr>\n",
       "    <tr>\n",
       "      <th>34788</th>\n",
       "      <td>joy</td>\n",
       "      <td>The world didnt give it to me..so the world MO...</td>\n",
       "      <td>The world didnt give it to meso the world MOST...</td>\n",
       "    </tr>\n",
       "    <tr>\n",
       "      <th>34789</th>\n",
       "      <td>anger</td>\n",
       "      <td>A man robbed me today .</td>\n",
       "      <td>A man robbed me today</td>\n",
       "    </tr>\n",
       "    <tr>\n",
       "      <th>34790</th>\n",
       "      <td>fear</td>\n",
       "      <td>Youu call it JEALOUSY, I call it of #Losing YO...</td>\n",
       "      <td>Youu call it JEALOUSY I call it of Losing YOU</td>\n",
       "    </tr>\n",
       "    <tr>\n",
       "      <th>34791</th>\n",
       "      <td>sadness</td>\n",
       "      <td>I think about you baby, and I dream about you ...</td>\n",
       "      <td>I think about you baby and I dream about you a...</td>\n",
       "    </tr>\n",
       "  </tbody>\n",
       "</table>\n",
       "<p>34792 rows × 3 columns</p>\n",
       "</div>"
      ],
      "text/plain": [
       "        Emotion                                               Text  \\\n",
       "0       neutral                                             Why ?    \n",
       "1           joy    Sage Act upgrade on my to do list for tommorow.   \n",
       "2       sadness  ON THE WAY TO MY HOMEGIRL BABY FUNERAL!!! MAN ...   \n",
       "3           joy   Such an eye ! The true hazel eye-and so brill...   \n",
       "4           joy  @Iluvmiasantos ugh babe.. hugggzzz for u .!  b...   \n",
       "...         ...                                                ...   \n",
       "34787  surprise  @MichelGW have you gift! Hope you like it! It'...   \n",
       "34788       joy  The world didnt give it to me..so the world MO...   \n",
       "34789     anger                           A man robbed me today .    \n",
       "34790      fear  Youu call it JEALOUSY, I call it of #Losing YO...   \n",
       "34791   sadness  I think about you baby, and I dream about you ...   \n",
       "\n",
       "                                              clean_text  \n",
       "0                                                  Why    \n",
       "1         Sage Act upgrade on my to do list for tommorow  \n",
       "2      ON THE WAY TO MY HOMEGIRL BABY FUNERAL MAN I H...  \n",
       "3       Such an eye  The true hazel eyeand so brillia...  \n",
       "4      Iluvmiasantos ugh babe hugggzzz for u   babe n...  \n",
       "...                                                  ...  \n",
       "34787  MichelGW have you gift Hope you like it Its ha...  \n",
       "34788  The world didnt give it to meso the world MOST...  \n",
       "34789                            A man robbed me today    \n",
       "34790      Youu call it JEALOUSY I call it of Losing YOU  \n",
       "34791  I think about you baby and I dream about you a...  \n",
       "\n",
       "[34792 rows x 3 columns]"
      ]
     },
     "execution_count": 14,
     "metadata": {},
     "output_type": "execute_result"
    }
   ],
   "source": [
    "df"
   ]
  },
  {
   "cell_type": "code",
   "execution_count": 15,
   "metadata": {},
   "outputs": [],
   "source": [
    "df['sentiment']=df['Text'].apply(get_sentiment)"
   ]
  },
  {
   "cell_type": "code",
   "execution_count": 16,
   "metadata": {},
   "outputs": [
    {
     "data": {
      "text/plain": [
       "Emotion   sentiment\n",
       "anger     negative     1787\n",
       "          neutral      1386\n",
       "          positive     1124\n",
       "disgust   negative      325\n",
       "          neutral       249\n",
       "          positive      282\n",
       "fear      negative     1534\n",
       "          neutral      1843\n",
       "          positive     2033\n",
       "joy       negative     1682\n",
       "          neutral      3648\n",
       "          positive     5715\n",
       "neutral   negative      178\n",
       "          neutral      1523\n",
       "          positive      553\n",
       "sadness   negative     2630\n",
       "          neutral      2127\n",
       "          positive     1965\n",
       "shame     negative       46\n",
       "          neutral        50\n",
       "          positive       50\n",
       "surprise  negative      623\n",
       "          neutral      1545\n",
       "          positive     1894\n",
       "dtype: int64"
      ]
     },
     "execution_count": 16,
     "metadata": {},
     "output_type": "execute_result"
    }
   ],
   "source": [
    "df.groupby(['Emotion','sentiment']).size()"
   ]
  },
  {
   "cell_type": "code",
   "execution_count": 17,
   "metadata": {},
   "outputs": [
    {
     "data": {
      "text/plain": [
       "<AxesSubplot:xlabel='Emotion,sentiment'>"
      ]
     },
     "execution_count": 17,
     "metadata": {},
     "output_type": "execute_result"
    },
    {
     "data": {
      "image/png": "[encoded data removed]",
      "text/plain": [
       "<Figure size 432x288 with 1 Axes>"
      ]
     },
     "metadata": {
      "needs_background": "light"
     },
     "output_type": "display_data"
    }
   ],
   "source": [
    "df.groupby(['Emotion','sentiment']).size().plot(kind='bar')"
   ]
  },
  {
   "cell_type": "code",
   "execution_count": 18,
   "metadata": {},
   "outputs": [
    {
     "name": "stderr",
     "output_type": "stream",
     "text": [
      "C:\\Users\\maruf\\anaconda3\\lib\\site-packages\\seaborn\\categorical.py:3704: UserWarning: The `factorplot` function has been renamed to `catplot`. The original name will be removed in a future release. Please update your code. Note that the default `kind` in `factorplot` (`'point'`) has changed `'strip'` in `catplot`.\n",
      "  warnings.warn(msg)\n",
      "C:\\Users\\maruf\\anaconda3\\lib\\site-packages\\seaborn\\categorical.py:3710: UserWarning: The `size` parameter has been renamed to `height`; please update your code.\n",
      "  warnings.warn(msg, UserWarning)\n"
     ]
    },
    {
     "data": {
      "text/plain": [
       "<seaborn.axisgrid.FacetGrid at 0x225945f2070>"
      ]
     },
     "execution_count": 18,
     "metadata": {},
     "output_type": "execute_result"
    },
    {
     "data": {
      "image/png": "[encoded data removed]",
      "text/plain": [
       "<Figure size 727.75x432 with 1 Axes>"
      ]
     },
     "metadata": {
      "needs_background": "light"
     },
     "output_type": "display_data"
    }
   ],
   "source": [
    "sns.factorplot\n",
    "sns.catplot\n",
    "sns.factorplot(x='Emotion',hue='sentiment',data=df,kind='count',size=6,aspect=1.5)"
   ]
  },
  {
   "cell_type": "code",
   "execution_count": 19,
   "metadata": {},
   "outputs": [],
   "source": [
    "df['text_length'] = df['clean_text'].astype(str).apply(len)\n",
    "df['text_word_count'] = df['clean_text'].apply(lambda x: len(str(x).split()))\n"
   ]
  },
  {
   "cell_type": "code",
   "execution_count": 20,
   "metadata": {},
   "outputs": [
    {
     "name": "stderr",
     "output_type": "stream",
     "text": [
      "C:\\Users\\maruf\\anaconda3\\lib\\site-packages\\seaborn\\distributions.py:2551: FutureWarning: `distplot` is a deprecated function and will be removed in a future version. Please adapt your code to use either `displot` (a figure-level function with similar flexibility) or `histplot` (an axes-level function for histograms).\n",
      "  warnings.warn(msg, FutureWarning)\n"
     ]
    },
    {
     "data": {
      "image/png": "[encoded data removed]",
      "text/plain": [
       "<Figure size 432x288 with 1 Axes>"
      ]
     },
     "metadata": {
      "needs_background": "light"
     },
     "output_type": "display_data"
    }
   ],
   "source": [
    "sns.distplot(df['text_length'])\n",
    "plt.xlim([0, 511]);\n",
    "plt.xlabel('Text Length');"
   ]
  },
  {
   "cell_type": "code",
   "execution_count": 21,
   "metadata": {},
   "outputs": [],
   "source": [
    "sadness = df['clean_text']\n",
    "joy = df['clean_text']"
   ]
  },
  {
   "cell_type": "code",
   "execution_count": 22,
   "metadata": {},
   "outputs": [],
   "source": [
    "\n",
    "def get_top_n_gram(corpus,ngram_range,n=None):\n",
    "    vec = CountVectorizer(ngram_range=ngram_range,stop_words = 'english').fit(corpus)\n",
    "    bag_of_words = vec.transform(corpus)\n",
    "    sum_words = bag_of_words.sum(axis=0) \n",
    "    words_freq = [(word, sum_words[0, idx]) for word, idx in vec.vocabulary_.items()]\n",
    "    words_freq =sorted(words_freq, key = lambda x: x[1], reverse=True)\n",
    "    return words_freq[:n]\n"
   ]
  },
  {
   "cell_type": "code",
   "execution_count": 23,
   "metadata": {},
   "outputs": [],
   "source": [
    "sad_unigrams = get_top_n_gram(sadness.values,(1,1),7)[2:]\n",
    "sad_bigrams = get_top_n_gram(sadness.values,(2,2),7)[2:]\n",
    "sad_trigrams = get_top_n_gram(sadness.values,(3,3),7)[2:]"
   ]
  },
  {
   "cell_type": "code",
   "execution_count": 24,
   "metadata": {},
   "outputs": [
    {
     "name": "stderr",
     "output_type": "stream",
     "text": [
      "C:\\Users\\maruf\\anaconda3\\lib\\site-packages\\seaborn\\_decorators.py:36: FutureWarning: Pass the following variables as keyword args: x, y. From version 0.12, the only valid positional argument will be `data`, and passing other arguments without an explicit keyword will result in an error or misinterpretation.\n",
      "  warnings.warn(\n",
      "C:\\Users\\maruf\\anaconda3\\lib\\site-packages\\seaborn\\_decorators.py:36: FutureWarning: Pass the following variables as keyword args: x, y. From version 0.12, the only valid positional argument will be `data`, and passing other arguments without an explicit keyword will result in an error or misinterpretation.\n",
      "  warnings.warn(\n",
      "C:\\Users\\maruf\\anaconda3\\lib\\site-packages\\seaborn\\_decorators.py:36: FutureWarning: Pass the following variables as keyword args: x, y. From version 0.12, the only valid positional argument will be `data`, and passing other arguments without an explicit keyword will result in an error or misinterpretation.\n",
      "  warnings.warn(\n"
     ]
    },
    {
     "data": {
      "image/png": "[encoded data removed]",
      "text/plain": [
       "<Figure size 1080x432 with 3 Axes>"
      ]
     },
     "metadata": {
      "needs_background": "light"
     },
     "output_type": "display_data"
    }
   ],
   "source": [
    "fig, axes = plt.subplots(1, 3, figsize=(15, 6), sharey=True)\n",
    "fig.suptitle('Emotion : Sadness')\n",
    "\n",
    "\n",
    "\n",
    "sns.barplot( list(dict(sad_unigrams).keys()), list(dict(sad_unigrams).values()),ax=axes[0],)\n",
    "axes[0].set_title('Unigrams')\n",
    "axes[0].tick_params(labelrotation=45)\n",
    "sns.barplot( list(dict(sad_bigrams).keys()), list(dict(sad_bigrams).values()),ax=axes[1],)\n",
    "axes[1].set_title('Bigrams')\n",
    "axes[1].tick_params(labelrotation=45)\n",
    "\n",
    "\n",
    "\n",
    "sns.barplot( list(dict(sad_trigrams).keys()), list(dict(sad_trigrams).values()),ax=axes[2],)\n",
    "axes[2].set_title('Trigrams')\n",
    "axes[2].tick_params(labelrotation=45)\n",
    "fig.savefig('sadness.png')"
   ]
  },
  {
   "cell_type": "code",
   "execution_count": 25,
   "metadata": {},
   "outputs": [],
   "source": [
    "joy_unigrams = get_top_n_gram(joy.values,(1,1),7)[2:]\n",
    "joy_bigrams = get_top_n_gram(joy.values,(2,2),7)[2:]\n",
    "joy_trigrams = get_top_n_gram(joy.values,(3,3),7)[2:]"
   ]
  },
  {
   "cell_type": "code",
   "execution_count": 26,
   "metadata": {},
   "outputs": [
    {
     "name": "stderr",
     "output_type": "stream",
     "text": [
      "C:\\Users\\maruf\\anaconda3\\lib\\site-packages\\seaborn\\_decorators.py:36: FutureWarning: Pass the following variables as keyword args: x, y. From version 0.12, the only valid positional argument will be `data`, and passing other arguments without an explicit keyword will result in an error or misinterpretation.\n",
      "  warnings.warn(\n",
      "C:\\Users\\maruf\\anaconda3\\lib\\site-packages\\seaborn\\_decorators.py:36: FutureWarning: Pass the following variables as keyword args: x, y. From version 0.12, the only valid positional argument will be `data`, and passing other arguments without an explicit keyword will result in an error or misinterpretation.\n",
      "  warnings.warn(\n",
      "C:\\Users\\maruf\\anaconda3\\lib\\site-packages\\seaborn\\_decorators.py:36: FutureWarning: Pass the following variables as keyword args: x, y. From version 0.12, the only valid positional argument will be `data`, and passing other arguments without an explicit keyword will result in an error or misinterpretation.\n",
      "  warnings.warn(\n"
     ]
    },
    {
     "data": {
      "image/png": "[encoded data removed]",
      "text/plain": [
       "<Figure size 1080x432 with 3 Axes>"
      ]
     },
     "metadata": {
      "needs_background": "light"
     },
     "output_type": "display_data"
    }
   ],
   "source": [
    "fig, axes = plt.subplots(1, 3, figsize=(15, 6), sharey=True)\n",
    "fig.suptitle('Emotion : joy')\n",
    "\n",
    "\n",
    "\n",
    "sns.barplot( list(dict(joy_unigrams).keys()), list(dict(joy_unigrams).values()),ax=axes[0],)\n",
    "axes[0].set_title('Unigrams')\n",
    "axes[0].tick_params(labelrotation=45)\n",
    "sns.barplot( list(dict(joy_bigrams).keys()), list(dict(joy_bigrams).values()),ax=axes[1],)\n",
    "axes[1].set_title('Bigrams')\n",
    "axes[1].tick_params(labelrotation=45)\n",
    "\n",
    "\n",
    "\n",
    "sns.barplot( list(dict(joy_trigrams).keys()), list(dict(joy_trigrams).values()),ax=axes[2],)\n",
    "axes[2].set_title('Trigrams')\n",
    "axes[2].tick_params(labelrotation=45)\n",
    "fig.savefig('sadness.png')"
   ]
  },
  {
   "cell_type": "code",
   "execution_count": 27,
   "metadata": {},
   "outputs": [
    {
     "data": {
      "text/plain": [
       "0         neutral\n",
       "1             joy\n",
       "2         sadness\n",
       "3             joy\n",
       "4             joy\n",
       "           ...   \n",
       "34787    surprise\n",
       "34788         joy\n",
       "34789       anger\n",
       "34790        fear\n",
       "34791     sadness\n",
       "Name: Emotion, Length: 34792, dtype: object"
      ]
     },
     "execution_count": 27,
     "metadata": {},
     "output_type": "execute_result"
    }
   ],
   "source": [
    "\n",
    "y1"
   ]
  },
  {
   "cell_type": "code",
   "execution_count": 28,
   "metadata": {},
   "outputs": [
    {
     "data": {
      "text/plain": [
       "0                                                    Why  \n",
       "1           Sage Act upgrade on my to do list for tommorow\n",
       "2        ON THE WAY TO MY HOMEGIRL BABY FUNERAL MAN I H...\n",
       "3         Such an eye  The true hazel eyeand so brillia...\n",
       "4        Iluvmiasantos ugh babe hugggzzz for u   babe n...\n",
       "                               ...                        \n",
       "34787    MichelGW have you gift Hope you like it Its ha...\n",
       "34788    The world didnt give it to meso the world MOST...\n",
       "34789                              A man robbed me today  \n",
       "34790        Youu call it JEALOUSY I call it of Losing YOU\n",
       "34791    I think about you baby and I dream about you a...\n",
       "Name: clean_text, Length: 34792, dtype: object"
      ]
     },
     "execution_count": 28,
     "metadata": {},
     "output_type": "execute_result"
    }
   ],
   "source": [
    "x1"
   ]
  },
  {
   "cell_type": "code",
   "execution_count": 29,
   "metadata": {},
   "outputs": [],
   "source": [
    "cv=CountVectorizer()\n",
    "x=cv.fit_transform(x1)"
   ]
  },
  {
   "cell_type": "code",
   "execution_count": 30,
   "metadata": {},
   "outputs": [
    {
     "data": {
      "text/plain": [
       "<34792x40645 sparse matrix of type '<class 'numpy.int64'>'\n",
       "\twith 469287 stored elements in Compressed Sparse Row format>"
      ]
     },
     "execution_count": 30,
     "metadata": {},
     "output_type": "execute_result"
    }
   ],
   "source": [
    "x"
   ]
  },
  {
   "cell_type": "code",
   "execution_count": 31,
   "metadata": {},
   "outputs": [
    {
     "name": "stderr",
     "output_type": "stream",
     "text": [
      "C:\\Users\\maruf\\anaconda3\\lib\\site-packages\\sklearn\\linear_model\\_logistic.py:762: ConvergenceWarning: lbfgs failed to converge (status=1):\n",
      "STOP: TOTAL NO. of ITERATIONS REACHED LIMIT.\n",
      "\n",
      "Increase the number of iterations (max_iter) or scale the data as shown in:\n",
      "    https://scikit-learn.org/stable/modules/preprocessing.html\n",
      "Please also refer to the documentation for alternative solver options:\n",
      "    https://scikit-learn.org/stable/modules/linear_model.html#logistic-regression\n",
      "  n_iter_i = _check_optimize_result(\n"
     ]
    },
    {
     "data": {
      "text/plain": [
       "LogisticRegression()"
      ]
     },
     "execution_count": 31,
     "metadata": {},
     "output_type": "execute_result"
    }
   ],
   "source": [
    "x_train,x_test,y_train,y_test=train_test_split(x,y1,test_size=0.3,random_state=42)\n",
    "m1 = LogisticRegression()\n",
    "m1.fit(x,y1)"
   ]
  },
  {
   "cell_type": "code",
   "execution_count": 32,
   "metadata": {},
   "outputs": [
    {
     "data": {
      "text/plain": [
       "0.8860892891358498"
      ]
     },
     "execution_count": 32,
     "metadata": {},
     "output_type": "execute_result"
    }
   ],
   "source": [
    "m1.score(x_test,y_test)"
   ]
  },
  {
   "cell_type": "code",
   "execution_count": 33,
   "metadata": {
    "scrolled": true
   },
   "outputs": [
    {
     "name": "stdout",
     "output_type": "stream",
     "text": [
      "              precision    recall  f1-score   support\n",
      "\n",
      "       anger       0.90      0.85      0.87      1283\n",
      "     disgust       0.95      0.84      0.89       292\n",
      "        fear       0.95      0.91      0.93      1645\n",
      "         joy       0.86      0.93      0.89      3311\n",
      "     neutral       0.81      0.87      0.84       675\n",
      "     sadness       0.87      0.86      0.86      2015\n",
      "       shame       1.00      1.00      1.00        36\n",
      "    surprise       0.93      0.84      0.88      1181\n",
      "\n",
      "    accuracy                           0.89     10438\n",
      "   macro avg       0.91      0.89      0.90     10438\n",
      "weighted avg       0.89      0.89      0.89     10438\n",
      "\n"
     ]
    }
   ],
   "source": [
    "pred1 = m1.predict(x_test)\n",
    "print(classification_report(y_test, pred1))"
   ]
  },
  {
   "cell_type": "code",
   "execution_count": 34,
   "metadata": {},
   "outputs": [
    {
     "data": {
      "text/plain": [
       "RandomForestClassifier()"
      ]
     },
     "execution_count": 34,
     "metadata": {},
     "output_type": "execute_result"
    }
   ],
   "source": [
    "m2 = RandomForestClassifier()\n",
    "m2.fit(x,y1)"
   ]
  },
  {
   "cell_type": "code",
   "execution_count": 55,
   "metadata": {},
   "outputs": [
    {
     "data": {
      "text/plain": [
       "0.9979881203295651"
      ]
     },
     "execution_count": 55,
     "metadata": {},
     "output_type": "execute_result"
    }
   ],
   "source": [
    "m2.score(x_test,y_test)"
   ]
  },
  {
   "cell_type": "code",
   "execution_count": 56,
   "metadata": {},
   "outputs": [
    {
     "name": "stdout",
     "output_type": "stream",
     "text": [
      "              precision    recall  f1-score   support\n",
      "\n",
      "       anger       1.00      1.00      1.00      1283\n",
      "     disgust       1.00      1.00      1.00       292\n",
      "        fear       1.00      1.00      1.00      1645\n",
      "         joy       1.00      1.00      1.00      3311\n",
      "     neutral       0.98      0.99      0.99       675\n",
      "     sadness       1.00      1.00      1.00      2015\n",
      "       shame       1.00      1.00      1.00        36\n",
      "    surprise       1.00      1.00      1.00      1181\n",
      "\n",
      "    accuracy                           1.00     10438\n",
      "   macro avg       1.00      1.00      1.00     10438\n",
      "weighted avg       1.00      1.00      1.00     10438\n",
      "\n"
     ]
    }
   ],
   "source": [
    "pred2 = m2.predict(x_test)\n",
    "print(classification_report(y_test, pred2))"
   ]
  },
  {
   "cell_type": "code",
   "execution_count": 37,
   "metadata": {},
   "outputs": [],
   "source": [
    "m3=GradientBoostingClassifier()"
   ]
  },
  {
   "cell_type": "code",
   "execution_count": 38,
   "metadata": {},
   "outputs": [
    {
     "data": {
      "text/plain": [
       "GradientBoostingClassifier()"
      ]
     },
     "execution_count": 38,
     "metadata": {},
     "output_type": "execute_result"
    }
   ],
   "source": [
    "m3.fit(x,y1)"
   ]
  },
  {
   "cell_type": "code",
   "execution_count": 57,
   "metadata": {},
   "outputs": [
    {
     "data": {
      "text/plain": [
       "0.5663920291243533"
      ]
     },
     "execution_count": 57,
     "metadata": {},
     "output_type": "execute_result"
    }
   ],
   "source": [
    "m3.score(x_test,y_test)"
   ]
  },
  {
   "cell_type": "code",
   "execution_count": 58,
   "metadata": {},
   "outputs": [
    {
     "name": "stdout",
     "output_type": "stream",
     "text": [
      "              precision    recall  f1-score   support\n",
      "\n",
      "       anger       0.89      0.39      0.55      1283\n",
      "     disgust       0.98      0.39      0.56       292\n",
      "        fear       0.94      0.47      0.62      1645\n",
      "         joy       0.44      0.95      0.60      3311\n",
      "     neutral       0.68      0.33      0.44       675\n",
      "     sadness       0.80      0.37      0.51      2015\n",
      "       shame       0.92      1.00      0.96        36\n",
      "    surprise       0.80      0.32      0.46      1181\n",
      "\n",
      "    accuracy                           0.57     10438\n",
      "   macro avg       0.81      0.53      0.59     10438\n",
      "weighted avg       0.72      0.57      0.55     10438\n",
      "\n"
     ]
    }
   ],
   "source": [
    "pred3 = m3.predict(x_test)\n",
    "print(classification_report(y_test, pred3))"
   ]
  },
  {
   "cell_type": "code",
   "execution_count": 59,
   "metadata": {},
   "outputs": [],
   "source": [
    " from sklearn.svm import SVC"
   ]
  },
  {
   "cell_type": "code",
   "execution_count": 60,
   "metadata": {},
   "outputs": [],
   "source": [
    "sv=SVC()"
   ]
  },
  {
   "cell_type": "code",
   "execution_count": 61,
   "metadata": {},
   "outputs": [
    {
     "data": {
      "text/plain": [
       "SVC()"
      ]
     },
     "execution_count": 61,
     "metadata": {},
     "output_type": "execute_result"
    }
   ],
   "source": [
    "sv.fit(x,y1)"
   ]
  },
  {
   "cell_type": "code",
   "execution_count": 62,
   "metadata": {},
   "outputs": [
    {
     "data": {
      "text/plain": [
       "0.8576355623682698"
      ]
     },
     "execution_count": 62,
     "metadata": {},
     "output_type": "execute_result"
    }
   ],
   "source": [
    "sv.score(x_test,y_test)"
   ]
  },
  {
   "cell_type": "code",
   "execution_count": 63,
   "metadata": {},
   "outputs": [
    {
     "name": "stdout",
     "output_type": "stream",
     "text": [
      "              precision    recall  f1-score   support\n",
      "\n",
      "       anger       0.93      0.81      0.87      1283\n",
      "     disgust       1.00      0.47      0.64       292\n",
      "        fear       0.98      0.88      0.93      1645\n",
      "         joy       0.77      0.96      0.86      3311\n",
      "     neutral       0.82      0.80      0.81       675\n",
      "     sadness       0.86      0.85      0.86      2015\n",
      "       shame       0.97      0.94      0.96        36\n",
      "    surprise       0.96      0.71      0.81      1181\n",
      "\n",
      "    accuracy                           0.86     10438\n",
      "   macro avg       0.91      0.80      0.84     10438\n",
      "weighted avg       0.87      0.86      0.86     10438\n",
      "\n"
     ]
    }
   ],
   "source": [
    "pred4 = sv.predict(x_test)\n",
    "print(classification_report(y_test, pred4))"
   ]
  },
  {
   "cell_type": "code",
   "execution_count": 64,
   "metadata": {},
   "outputs": [],
   "source": [
    "from sklearn.naive_bayes import MultinomialNB"
   ]
  },
  {
   "cell_type": "code",
   "execution_count": 65,
   "metadata": {},
   "outputs": [
    {
     "data": {
      "text/plain": [
       "MultinomialNB()"
      ]
     },
     "execution_count": 65,
     "metadata": {},
     "output_type": "execute_result"
    }
   ],
   "source": [
    "nv=MultinomialNB()\n",
    "nv.fit(x,y1)"
   ]
  },
  {
   "cell_type": "code",
   "execution_count": 66,
   "metadata": {},
   "outputs": [
    {
     "data": {
      "text/plain": [
       "0.7024334163632879"
      ]
     },
     "execution_count": 66,
     "metadata": {},
     "output_type": "execute_result"
    }
   ],
   "source": [
    "nv.score(x_test,y_test)"
   ]
  },
  {
   "cell_type": "code",
   "execution_count": 67,
   "metadata": {},
   "outputs": [
    {
     "name": "stdout",
     "output_type": "stream",
     "text": [
      "              precision    recall  f1-score   support\n",
      "\n",
      "       anger       0.78      0.68      0.72      1283\n",
      "     disgust       0.88      0.10      0.18       292\n",
      "        fear       0.87      0.77      0.82      1645\n",
      "         joy       0.62      0.93      0.74      3311\n",
      "     neutral       0.91      0.14      0.25       675\n",
      "     sadness       0.70      0.74      0.72      2015\n",
      "       shame       1.00      0.03      0.05        36\n",
      "    surprise       0.84      0.41      0.55      1181\n",
      "\n",
      "    accuracy                           0.70     10438\n",
      "   macro avg       0.82      0.48      0.51     10438\n",
      "weighted avg       0.74      0.70      0.68     10438\n",
      "\n"
     ]
    }
   ],
   "source": [
    "pred5 = nv.predict(x_test)\n",
    "print(classification_report(y_test, pred5))"
   ]
  },
  {
   "cell_type": "code",
   "execution_count": 69,
   "metadata": {},
   "outputs": [],
   "source": [
    "from sklearn.ensemble import AdaBoostClassifier"
   ]
  },
  {
   "cell_type": "code",
   "execution_count": 70,
   "metadata": {},
   "outputs": [],
   "source": [
    "ad=AdaBoostClassifier()"
   ]
  },
  {
   "cell_type": "code",
   "execution_count": 73,
   "metadata": {},
   "outputs": [
    {
     "data": {
      "text/plain": [
       "AdaBoostClassifier()"
      ]
     },
     "execution_count": 73,
     "metadata": {},
     "output_type": "execute_result"
    }
   ],
   "source": [
    "ad.fit(x_train,y_train)"
   ]
  },
  {
   "cell_type": "code",
   "execution_count": 74,
   "metadata": {},
   "outputs": [
    {
     "data": {
      "text/plain": [
       "0.33358881011688063"
      ]
     },
     "execution_count": 74,
     "metadata": {},
     "output_type": "execute_result"
    }
   ],
   "source": [
    "ad.score(x_test,y_test)"
   ]
  },
  {
   "cell_type": "code",
   "execution_count": 75,
   "metadata": {},
   "outputs": [
    {
     "name": "stdout",
     "output_type": "stream",
     "text": [
      "              precision    recall  f1-score   support\n",
      "\n",
      "       anger       0.00      0.00      0.00      1283\n",
      "     disgust       0.00      0.00      0.00       292\n",
      "        fear       0.85      0.10      0.19      1645\n",
      "         joy       0.32      1.00      0.49      3311\n",
      "     neutral       0.00      0.00      0.00       675\n",
      "     sadness       0.00      0.00      0.00      2015\n",
      "       shame       1.00      0.08      0.15        36\n",
      "    surprise       0.00      0.00      0.00      1181\n",
      "\n",
      "    accuracy                           0.33     10438\n",
      "   macro avg       0.27      0.15      0.10     10438\n",
      "weighted avg       0.24      0.33      0.18     10438\n",
      "\n"
     ]
    },
    {
     "name": "stderr",
     "output_type": "stream",
     "text": [
      "C:\\Users\\maruf\\anaconda3\\lib\\site-packages\\sklearn\\metrics\\_classification.py:1221: UndefinedMetricWarning: Precision and F-score are ill-defined and being set to 0.0 in labels with no predicted samples. Use `zero_division` parameter to control this behavior.\n",
      "  _warn_prf(average, modifier, msg_start, len(result))\n"
     ]
    }
   ],
   "source": [
    "adpred = ad.predict(x_test)\n",
    "print(classification_report(y_test, adpred))"
   ]
  },
  {
   "cell_type": "code",
   "execution_count": null,
   "metadata": {},
   "outputs": [],
   "source": []
  },
  {
   "cell_type": "markdown",
   "metadata": {},
   "source": [
    "# RNN"
   ]
  },
  {
   "cell_type": "code",
   "execution_count": 68,
   "metadata": {},
   "outputs": [],
   "source": [
    "import gc"
   ]
  },
  {
   "cell_type": "code",
   "execution_count": 76,
   "metadata": {},
   "outputs": [],
   "source": [
    "m = df.shape[0]\n",
    "train_split = 0.75 * m\n",
    "val_split = (1 - 0.75) * m\n",
    "test_split = 0.20 * val_split\n",
    "val_split = (1 - 0.20) * val_split"
   ]
  },
  {
   "cell_type": "code",
   "execution_count": 77,
   "metadata": {},
   "outputs": [
    {
     "name": "stdout",
     "output_type": "stream",
     "text": [
      "Splitting ratio: \n",
      "\n",
      "train_split:  26094.0 , val_split:  6958.400000000001 , test-split:  1739.6000000000001\n",
      "\n",
      "All_Shapes: \n",
      "\n",
      "(26094, 6) (6957, 6) (1738, 6)\n"
     ]
    },
    {
     "data": {
      "text/plain": [
       "3138"
      ]
     },
     "execution_count": 77,
     "metadata": {},
     "output_type": "execute_result"
    }
   ],
   "source": [
    "print('Splitting ratio: ')\n",
    "print()\n",
    "print('train_split: ', train_split, ', val_split: ', val_split, ', test-split: ', test_split)\n",
    "\n",
    "train_data = df.iloc[:int(train_split)]\n",
    "val_data = df.iloc[int(train_split) + 1: int(train_split) + int(val_split)]\n",
    "test_data = df.iloc[int(train_split) + int(val_split) + 1 : int(train_split) + int(val_split) + int(test_split)]\n",
    "print()\n",
    "print('All_Shapes: ')\n",
    "print()\n",
    "print(train_data.shape, val_data.shape, test_data.shape)\n",
    "\n",
    "del val_split\n",
    "del train_split\n",
    "del test_split\n",
    "gc.collect()"
   ]
  },
  {
   "cell_type": "code",
   "execution_count": 78,
   "metadata": {},
   "outputs": [
    {
     "data": {
      "image/png": "[encoded data removed]",
      "text/plain": [
       "<Figure size 1152x576 with 1 Axes>"
      ]
     },
     "metadata": {},
     "output_type": "display_data"
    },
    {
     "name": "stdout",
     "output_type": "stream",
     "text": [
      "joy         8284\n",
      "sadness     5001\n",
      "fear        4084\n",
      "anger       3229\n",
      "surprise    3041\n",
      "neutral     1685\n",
      "disgust      655\n",
      "shame        115\n",
      "Name: Emotion, dtype: int64\n"
     ]
    }
   ],
   "source": [
    "sns.set_style('white')\n",
    "\n",
    "plt.figure(figsize=(16,8))\n",
    "plt.title('Data-Distribution')\n",
    "sns.histplot(train_data['Emotion'], kde=True, color='red', stat='density')\n",
    "plt.show()\n",
    "\n",
    "print(train_data['Emotion'].value_counts())"
   ]
  },
  {
   "cell_type": "code",
   "execution_count": 2,
   "metadata": {},
   "outputs": [
    {
     "ename": "NameError",
     "evalue": "name 'train_data' is not defined",
     "output_type": "error",
     "traceback": [
      "\u001b[1;31m---------------------------------------------------------------------------\u001b[0m",
      "\u001b[1;31mNameError\u001b[0m                                 Traceback (most recent call last)",
      "\u001b[1;32m<ipython-input-2-cb7c9d6b8596>\u001b[0m in \u001b[0;36m<module>\u001b[1;34m\u001b[0m\n\u001b[0;32m      2\u001b[0m \u001b[1;32mimport\u001b[0m \u001b[0mtensorflow\u001b[0m \u001b[1;32mas\u001b[0m \u001b[0mtf\u001b[0m\u001b[1;33m\u001b[0m\u001b[1;33m\u001b[0m\u001b[0m\n\u001b[0;32m      3\u001b[0m \u001b[1;33m\u001b[0m\u001b[0m\n\u001b[1;32m----> 4\u001b[1;33m \u001b[0mclean_text\u001b[0m \u001b[1;33m=\u001b[0m \u001b[0mtrain_data\u001b[0m\u001b[1;33m.\u001b[0m\u001b[0mText\u001b[0m\u001b[1;33m.\u001b[0m\u001b[0mtolist\u001b[0m\u001b[1;33m(\u001b[0m\u001b[1;33m)\u001b[0m\u001b[1;33m\u001b[0m\u001b[1;33m\u001b[0m\u001b[0m\n\u001b[0m\u001b[0;32m      5\u001b[0m \u001b[0mall_classes\u001b[0m \u001b[1;33m=\u001b[0m \u001b[0mtrain_data\u001b[0m\u001b[1;33m.\u001b[0m\u001b[0mEmotion\u001b[0m\u001b[1;33m.\u001b[0m\u001b[0munique\u001b[0m\u001b[1;33m(\u001b[0m\u001b[1;33m)\u001b[0m\u001b[1;33m.\u001b[0m\u001b[0mtolist\u001b[0m\u001b[1;33m(\u001b[0m\u001b[1;33m)\u001b[0m\u001b[1;33m\u001b[0m\u001b[1;33m\u001b[0m\u001b[0m\n\u001b[0;32m      6\u001b[0m \u001b[1;33m\u001b[0m\u001b[0m\n",
      "\u001b[1;31mNameError\u001b[0m: name 'train_data' is not defined"
     ]
    }
   ],
   "source": [
    "import string\n",
    "import tensorflow as tf\n",
    "\n",
    "clean_text = train_data.Text.tolist()\n",
    "all_classes = train_data.Emotion.unique().tolist()\n",
    "\n",
    "'''\n",
    "\n",
    "token_data = tf.keras.preprocessing.text.Tokenizer(num_words=None,\n",
    "    filters='!\"#$%&()*+,-./:;<=>?@[\\\\]^_`{|}~\\t\\n',\n",
    "    lower=True,\n",
    "    split=' ')\n",
    "\n",
    "token_data.fit_on_texts(content_text)\n",
    "ind_text = token_data.texts_to_sequences(content_text)'''\n",
    "\n",
    "\n",
    "clean_text = train_data.Text.tolist()\n",
    "ex_char = string.punctuation\n",
    "ex_char = ex_char.replace('~', '')\n",
    "c_text = '~~~~~~'.join(content_text)\n",
    "\n",
    "x = c_text.translate(str.maketrans('', '', ex_char))\n",
    "c_text = x.split('~~~~~~')\n",
    "\n",
    "print('Again_samples: ',len(c_text))\n",
    "print('Some_Sentences: ')\n",
    "print()\n",
    "print(c_text[34])\n",
    "print(c_text[21])\n",
    "print()\n",
    "\n",
    "token_data = tf.keras.preprocessing.text.Tokenizer(num_words=None,\n",
    "    filters='!\"#$%&()*+,-./:;<=>?@[\\\\]^_`{|}~\\t\\n',\n",
    "    lower=True,\n",
    "    split=' ')\n",
    "token_data.fit_on_texts(c_text)\n",
    "ind_text = token_data.texts_to_sequences(c_text)\n",
    "\n",
    "print()\n",
    "\n",
    "print('All_samples: ', len(ind_text))\n",
    "word_index = token_data.word_index\n",
    "print('Diff. words: ', len(list(word_index)))"
   ]
  },
  {
   "cell_type": "code",
   "execution_count": 84,
   "metadata": {},
   "outputs": [
    {
     "name": "stdout",
     "output_type": "stream",
     "text": [
      "No. of Labels:  8\n",
      "\n",
      "{'neutral': 0, 'joy': 1, 'sadness': 2, 'fear': 3, 'surprise': 4, 'anger': 5, 'shame': 6, 'disgust': 7}\n",
      "\n",
      "{0: 'neutral', 1: 'joy', 2: 'sadness', 3: 'fear', 4: 'surprise', 5: 'anger', 6: 'shame', 7: 'disgust'}\n"
     ]
    }
   ],
   "source": [
    "label_token = tf.keras.preprocessing.text.Tokenizer(num_words=len(all_classes),\n",
    "    filters='!\"#$%&()*+,-./:;<=>?@[\\\\]^_`{|}~\\t\\n',\n",
    "    lower=True,\n",
    "    split=' ')\n",
    "classes = ' '.join(all_classes)\n",
    "label_token.fit_on_texts([classes])\n",
    "label_index = label_token.word_index\n",
    "print('No. of Labels: ',len(list(label_index)))\n",
    "print()\n",
    "label_index = {key:value-1 for key, value in label_index.items()}\n",
    "print(label_index)\n",
    "inv_label_index = {value:key for key, value in label_index.items()}\n",
    "print()\n",
    "print(inv_label_index)"
   ]
  },
  {
   "cell_type": "code",
   "execution_count": 85,
   "metadata": {},
   "outputs": [
    {
     "name": "stdout",
     "output_type": "stream",
     "text": [
      "max_input_length:  232\n",
      "x_train_shape:  (26095, 232) , y_train_shape:  (24354,)\n"
     ]
    },
    {
     "name": "stderr",
     "output_type": "stream",
     "text": [
      "<ipython-input-85-ad3d522926db>:1: VisibleDeprecationWarning: Creating an ndarray from ragged nested sequences (which is a list-or-tuple of lists-or-tuples-or ndarrays with different lengths or shapes) is deprecated. If you meant to do this, you must specify 'dtype=object' when creating the ndarray.\n",
      "  x_train = np.array(ind_text)\n"
     ]
    }
   ],
   "source": [
    "x_train = np.array(ind_text)\n",
    "max_inp_len = len(x_train[0])\n",
    "for step, i in enumerate(x_train):\n",
    "    if len(i) > max_inp_len:\n",
    "        max_inp_len = len(i)\n",
    "print('max_input_length: ',max_inp_len)\n",
    "\n",
    "x_train = tf.keras.preprocessing.sequence.pad_sequences(x_train, maxlen = max_inp_len, padding = 'post')\n",
    "print('x_train_shape: ',x_train.shape, ', y_train_shape: ', y_train.shape)"
   ]
  },
  {
   "cell_type": "code",
   "execution_count": 87,
   "metadata": {},
   "outputs": [
    {
     "name": "stdout",
     "output_type": "stream",
     "text": [
      "Val-Processing ...\n",
      "Again_Val_samples:  6957\n",
      "Some_Val_Sentences: \n",
      "\n",
      "Considering I procrastinated all weekend I have all day to do my homework oh what a \n",
      "benjanbaz en die lieten ni eens een frustratie opt veld zien niets eh Gwn broek nr beneden en bukken 90min lang unrespectful\n",
      "\n",
      "\n",
      "All_Val_samples:  6957\n",
      "Label_shape:  (6957,)\n",
      "(6957,) (6957,)\n",
      "------------------------------------------------------------\n",
      "Test_Preprocessing ...\n"
     ]
    },
    {
     "name": "stderr",
     "output_type": "stream",
     "text": [
      "<ipython-input-87-29f4fc2e72d3>:22: VisibleDeprecationWarning: Creating an ndarray from ragged nested sequences (which is a list-or-tuple of lists-or-tuples-or ndarrays with different lengths or shapes) is deprecated. If you meant to do this, you must specify 'dtype=object' when creating the ndarray.\n",
      "  x_val = np.array(ind_text)\n"
     ]
    },
    {
     "name": "stdout",
     "output_type": "stream",
     "text": [
      "Again_Test_samples:  26095\n",
      "Some_Test_Sentences: \n",
      "\n",
      "The bank had made no secret of their dismay over Virgin s venture into airlines  \n",
      "When I fell in love with X  Overnight I felt confidence selfesteem    responsible and worthwhile\n",
      "\n",
      "\n",
      "All_Test_samples:  26095\n",
      "Label_shape:  (1738,)\n",
      "(26095,) (1738,)\n"
     ]
    },
    {
     "name": "stderr",
     "output_type": "stream",
     "text": [
      "<ipython-input-87-29f4fc2e72d3>:56: VisibleDeprecationWarning: Creating an ndarray from ragged nested sequences (which is a list-or-tuple of lists-or-tuples-or ndarrays with different lengths or shapes) is deprecated. If you meant to do this, you must specify 'dtype=object' when creating the ndarray.\n",
      "  x_test = np.array(ind_text)\n"
     ]
    }
   ],
   "source": [
    "def val_preprocess(val_data, token_data, label_index):\n",
    "    \n",
    "    content_text = val_data.Text.tolist()\n",
    "    all_classes = val_data.Emotion.unique().tolist()\n",
    "\n",
    "    clean_text = val_data.Text.tolist()\n",
    "    ex_char = string.punctuation\n",
    "    ex_char = ex_char.replace('~', '')\n",
    "    c_text = '~~~~~~'.join(content_text)\n",
    "\n",
    "    x = c_text.translate(str.maketrans('', '', ex_char))\n",
    "    c_text = x.split('~~~~~~')\n",
    "\n",
    "    print('Again_Val_samples: ',len(c_text))\n",
    "    print('Some_Val_Sentences: ')\n",
    "    print()\n",
    "    print(c_text[34])\n",
    "    print(c_text[21])\n",
    "    print()\n",
    "\n",
    "    ind_text = token_data.texts_to_sequences(c_text)\n",
    "    x_val = np.array(ind_text)\n",
    "    print()\n",
    "\n",
    "    print('All_Val_samples: ', len(ind_text))\n",
    "    \n",
    "    y_val = []\n",
    "    for i in val_data.sentiment:\n",
    "        y_val.append(label_index.get(i))\n",
    "    y_val = np.array(y_val)\n",
    "    print('Label_shape: ', y_val.shape)\n",
    "    \n",
    "    return x_val, y_val\n",
    "    \n",
    "def test_preprocess(test_data, token_data, label_index):\n",
    "    \n",
    "    clean_text = test_data.Text.tolist()\n",
    "    all_classes = test_data.Emotion.unique().tolist()\n",
    "\n",
    "    clean_text = test_data.Text.tolist()\n",
    "    ex_char = string.punctuation\n",
    "    ex_char = ex_char.replace('~', '')\n",
    "    c_text = '~~~~~~'.join(content_text)\n",
    "\n",
    "    x = c_text.translate(str.maketrans('', '', ex_char))\n",
    "    c_text = x.split('~~~~~~')\n",
    "\n",
    "    print('Again_Test_samples: ',len(c_text))\n",
    "    print('Some_Test_Sentences: ')\n",
    "    print()\n",
    "    print(c_text[34])\n",
    "    print(c_text[21])\n",
    "    print()\n",
    "\n",
    "    ind_text = token_data.texts_to_sequences(c_text)\n",
    "    x_test = np.array(ind_text)\n",
    "    print()\n",
    "    print('All_Test_samples: ', len(ind_text))\n",
    "    y_test = []\n",
    "    for i in test_data.Emotion:\n",
    "        y_test.append(label_index.get(i))\n",
    "    y_test = np.array(y_test)\n",
    "    print('Label_shape: ', y_test.shape)\n",
    "    \n",
    "    return x_test, y_test\n",
    "        \n",
    "\n",
    "print('Val-Processing ...')\n",
    "x_val, y_val = val_preprocess(val_data, token_data, label_index)\n",
    "print(x_val.shape, y_val.shape)\n",
    "print('---'*20)\n",
    "print('Test_Preprocessing ...')\n",
    "x_test, y_test = test_preprocess(test_data, token_data, label_index)\n",
    "print(x_test.shape, y_test.shape)"
   ]
  },
  {
   "cell_type": "code",
   "execution_count": 88,
   "metadata": {},
   "outputs": [
    {
     "name": "stdout",
     "output_type": "stream",
     "text": [
      "x_val_shape:  (6957, 232) , y_val_shape:  (6957,)\n",
      "x_test_shape:  (26095, 232) , y_test_shape:  (1738,)\n"
     ]
    }
   ],
   "source": [
    "x_val = tf.keras.preprocessing.sequence.pad_sequences(x_val, maxlen = max_inp_len, padding = 'post')\n",
    "print('x_val_shape: ',x_val.shape, ', y_val_shape: ', y_val.shape)\n",
    "x_test = tf.keras.preprocessing.sequence.pad_sequences(x_test, maxlen = max_inp_len, padding = 'post')\n",
    "print('x_test_shape: ',x_test.shape, ', y_test_shape: ', y_test.shape)"
   ]
  },
  {
   "cell_type": "code",
   "execution_count": 1,
   "metadata": {},
   "outputs": [
    {
     "ename": "NameError",
     "evalue": "name 'tf' is not defined",
     "output_type": "error",
     "traceback": [
      "\u001b[1;31m---------------------------------------------------------------------------\u001b[0m",
      "\u001b[1;31mNameError\u001b[0m                                 Traceback (most recent call last)",
      "\u001b[1;32m<ipython-input-1-34c272bcb712>\u001b[0m in \u001b[0;36m<module>\u001b[1;34m\u001b[0m\n\u001b[0;32m      1\u001b[0m \u001b[1;32mimport\u001b[0m \u001b[0mkeras_tuner\u001b[0m \u001b[1;32mas\u001b[0m \u001b[0mkt\u001b[0m\u001b[1;33m\u001b[0m\u001b[1;33m\u001b[0m\u001b[0m\n\u001b[1;32m----> 2\u001b[1;33m \u001b[0mstop_early\u001b[0m \u001b[1;33m=\u001b[0m \u001b[0mtf\u001b[0m\u001b[1;33m.\u001b[0m\u001b[0mkeras\u001b[0m\u001b[1;33m.\u001b[0m\u001b[0mcallbacks\u001b[0m\u001b[1;33m.\u001b[0m\u001b[0mEarlyStopping\u001b[0m\u001b[1;33m(\u001b[0m\u001b[0mmonitor\u001b[0m\u001b[1;33m=\u001b[0m\u001b[1;34m'val_loss'\u001b[0m\u001b[1;33m,\u001b[0m \u001b[0mpatience\u001b[0m \u001b[1;33m=\u001b[0m \u001b[1;36m2\u001b[0m\u001b[1;33m)\u001b[0m\u001b[1;33m\u001b[0m\u001b[1;33m\u001b[0m\u001b[0m\n\u001b[0m\u001b[0;32m      3\u001b[0m \u001b[1;33m\u001b[0m\u001b[0m\n\u001b[0;32m      4\u001b[0m \u001b[1;33m\u001b[0m\u001b[0m\n\u001b[0;32m      5\u001b[0m \u001b[1;33m\u001b[0m\u001b[0m\n",
      "\u001b[1;31mNameError\u001b[0m: name 'tf' is not defined"
     ]
    }
   ],
   "source": [
    "import keras_tuner as kt\n",
    "stop_early = tf.keras.callbacks.EarlyStopping(monitor='val_loss', patience = 2)\n",
    "\n",
    "\n",
    "    \n",
    "input_1 = tf.keras.layers.Input(shape=(x_train.shape[-1],))\n",
    "embd_1 = tf.keras.layers.Embedding(input_dim = len(list(word_index)) + 1, output_dim=128)(input_1)\n",
    "bi_1 = tf.keras.layers.Bidirectional(tf.keras.layers.LSTM(units=64, return_sequences=True, dropout=0.3, recurrent_dropout=0.5), merge_mode = 'concat')(embd_1)\n",
    "lstm_1 = tf.keras.layers.LSTM(units=64, dropout=0.3, recurrent_dropout=0.5)(bi_1)\n",
    "dense_1 = tf.keras.layers.Dense(len(all_classes), activation='softmax')(lstm_1)\n",
    "\n",
    "model = tf.keras.models.Model(inputs = input_1, outputs = dense_1, name='Basic_RNN')\n",
    "model.compile(loss='sparse_categorical_crossentropy', optimizer='Adam', metrics=['accuracy'])\n",
    "\n",
    "tf.keras.utils.plot_model(model, show_shapes =True)"
   ]
  },
  {
   "cell_type": "code",
   "execution_count": null,
   "metadata": {},
   "outputs": [],
   "source": []
  }
 ],
 "metadata": {
  "kernelspec": {
   "display_name": "Python 3",
   "language": "python",
   "name": "python3"
  },
  "language_info": {
   "codemirror_mode": {
    "name": "ipython",
    "version": 3
   },
   "file_extension": ".py",
   "mimetype": "text/x-python",
   "name": "python",
   "nbconvert_exporter": "python",
   "pygments_lexer": "ipython3",
   "version": "3.8.5"
  }
 },
 "nbformat": 4,
 "nbformat_minor": 4
}
